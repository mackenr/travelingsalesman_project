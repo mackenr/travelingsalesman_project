{
 "cells": [
  {
   "cell_type": "code",
   "execution_count": 6,
   "metadata": {},
   "outputs": [],
   "source": [
    "from models import *\n",
    "# Create necessary classes and functions\n",
    "# Create class to handle \"cities\"\n"
   ]
  },
  {
   "cell_type": "markdown",
   "metadata": {},
   "source": [
    "# Solving the \"Traveling Salesman Problem\" via the genetic algorithim.\n",
    "#### Richard Macken\n",
    "---- "
   ]
  },
  {
   "cell_type": "markdown",
   "metadata": {},
   "source": [
    "# What is the use?\n",
    "\n",
    "### Well the TSP is a classic problem in applied mathematics. With little modification it can be applied to drones. For a boader customer base, it is fondational to understanding and solving more complex problems such as fleet optimization for any shipping and delivery system. This class of problem is often called a vehicle routing problem.\n",
    "### Yet since it is asking for the shortest path connect nodes on a graph, it is great base case to give us a fundemental understanding of many graph and decision tree based models. \n",
    "\n",
    "### The niave approach is to consider the permutations of the problem which as we showed above can be computationally expensive to the point it becomes impossible when our number of nodes becomes large.\n",
    "### Here we leverage a metaheuristic called a genetic algorithm. This gives a near optimal answer to our problem. It can be used in many applications as mentioned earlier. Many finciancal engineers use it when analising financial models\n",
    "\n",
    "\n",
    "### So is a genetic algorithim a machine learning model in itself? Well it depends on who you ask, there are those who say yes and those who say no. What is clear is that it is a useful tool for Data scienteist to use and understand as it can allow us to optimize our staple machine learning models.\n",
    "\n",
    "## In short, our exloporation offers solutions to specific real world problems while establishing giving a level of clarification to the mechanisms underlying many machine learning models."
   ]
  },
  {
   "cell_type": "code",
   "execution_count": null,
   "metadata": {},
   "outputs": [],
   "source": [
    "\n",
    "\n",
    "\n"
   ]
  },
  {
   "cell_type": "code",
   "execution_count": null,
   "metadata": {},
   "outputs": [],
   "source": [
    "def focusedforreport(n):\n",
    "    stats,comp,bestroute=popandbestcsv(n)\n",
    "    TSPFocusedViz(n)\n"
   ]
  },
  {
   "cell_type": "code",
   "execution_count": null,
   "metadata": {},
   "outputs": [],
   "source": [
    "\n"
   ]
  },
  {
   "cell_type": "code",
   "execution_count": null,
   "metadata": {},
   "outputs": [],
   "source": [
    "\n",
    "\n",
    "\n",
    "dist.sum(axis=1).min()"
   ]
  },
  {
   "cell_type": "markdown",
   "metadata": {},
   "source": [
    "Going further weit would be nice to consider a vechicle routing problem. As we can see this is already complex but it actually is not realistic as is unless we can fly. The extension of this into subgroups is more interesting for most applications, even\n",
    "as an abstraction for clustering."
   ]
  },
  {
   "cell_type": "code",
   "execution_count": null,
   "metadata": {},
   "outputs": [],
   "source": [
    "\n",
    "\n",
    "theMainShow()\n"
   ]
  }
 ],
 "metadata": {
  "kernelspec": {
   "display_name": "Python 3.9.10 ('base')",
   "language": "python",
   "name": "python3"
  },
  "language_info": {
   "codemirror_mode": {
    "name": "ipython",
    "version": 3
   },
   "file_extension": ".py",
   "mimetype": "text/x-python",
   "name": "python",
   "nbconvert_exporter": "python",
   "pygments_lexer": "ipython3",
   "version": "3.9.10"
  },
  "orig_nbformat": 4,
  "vscode": {
   "interpreter": {
    "hash": "38cca0c38332a56087b24af0bc80247f4fced29cb4f7f437d91dc159adec9c4e"
   }
  }
 },
 "nbformat": 4,
 "nbformat_minor": 2
}
